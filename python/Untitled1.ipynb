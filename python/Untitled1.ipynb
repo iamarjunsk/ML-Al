{
 "cells": [
  {
   "cell_type": "code",
   "execution_count": 1,
   "metadata": {},
   "outputs": [
    {
     "name": "stdout",
     "output_type": "stream",
     "text": [
      "Enter a string:heloarjun\n",
      "oar\n"
     ]
    }
   ],
   "source": [
    "\"\"\"\n",
    "Q1. Input a string of odd length (minimum 9 characters), print a string made of the 3\n",
    "middle characters from input string.(eg :- if input is abcdefghi, answer should be def)\n",
    "\"\"\"\n",
    "val = input(\"Enter a string:\")\n",
    "n = len(val)//2\n",
    "print(val[(n-1):(n+2)])\n"
   ]
  },
  {
   "cell_type": "code",
   "execution_count": 2,
   "metadata": {},
   "outputs": [
    {
     "name": "stdout",
     "output_type": "stream",
     "text": [
      "Enter limit to calculate sum and average upto limt:5\n",
      "Using for loop\n",
      " Sum =  15\n",
      "Average =  3.0\n",
      "Using while loop\n",
      "Sum =  15\n",
      "Average =  3.0\n"
     ]
    }
   ],
   "source": [
    "\"\"\"\n",
    "Q2. Calculate the sum and average of first n natural numbers\n",
    "a. using for loop\n",
    "b. using while loop\n",
    "\"\"\"\n",
    "sumFor = 0\n",
    "n = int(input(\"Enter limit to calculate sum and average upto limt:\"))\n",
    "#using for\n",
    "for i in range(1,n+1):\n",
    "    sumFor = sumFor + i\n",
    "print(\"Using for loop\")\n",
    "print(\"Sum = \",sumFor)\n",
    "print(\"Average = \",sumFor/n)\n",
    "\n",
    "#using while\n",
    "i = 1\n",
    "sumWhile = 0\n",
    "while(i<=n):\n",
    "    sumWhile = sumWhile + i\n",
    "    i=i+1\n",
    "print(\"Using while loop\")\n",
    "print(\"Sum = \",sumWhile)\n",
    "print(\"Average = \",sumWhile/n)"
   ]
  },
  {
   "cell_type": "code",
   "execution_count": 6,
   "metadata": {},
   "outputs": [
    {
     "name": "stdout",
     "output_type": "stream",
     "text": [
      "Enter element number 1:1.2\n",
      "Enter element number 2:2.1\n",
      "Enter element number 3:4\n",
      "Enter element number 4:3\n",
      "Enter element number 5:5\n",
      "[1.2, 2.1, 4.0, 3.0, 5.0]\n"
     ]
    }
   ],
   "source": [
    "\"\"\"\n",
    "Q3. Accept list of 5 float numbers as input from user using loop and store values in a list\n",
    "\"\"\"\n",
    "li=[]\n",
    "for i in range(0,5):\n",
    "    li.append(float(input(\"Enter element number \" + str(i+1)+\":\")))\n",
    "print(li)\n"
   ]
  },
  {
   "cell_type": "code",
   "execution_count": 3,
   "metadata": {},
   "outputs": [
    {
     "name": "stdout",
     "output_type": "stream",
     "text": [
      "First pattern\n",
      "1 \n",
      "1 2 \n",
      "1 2 3 \n",
      "1 2 3 4 \n",
      "1 2 3 4 5 \n",
      "Second pattern\n",
      "5 4 3 2 1 \n",
      "4 3 2 1 \n",
      "3 2 1 \n",
      "2 1 \n",
      "1 \n"
     ]
    }
   ],
   "source": [
    "\"\"\"\n",
    "Q4. Print the following pattern\n",
    "a)\n",
    "1\n",
    "1 2\n",
    "1 2 3\n",
    "1 2 3 4\n",
    "1 2 3 4 5\n",
    "b)\n",
    "5 4 3 2 1\n",
    "4 3 2 1\n",
    "3 2 1\n",
    "2 1\n",
    "1\n",
    "\"\"\"\n",
    "print(\"First pattern\")\n",
    "i=1\n",
    "while(i<=5):\n",
    "    j=1\n",
    "    while(j<=i):\n",
    "        print(j, end=\" \")\n",
    "        j=j+1\n",
    "    print()\n",
    "    i = i+1\n",
    "\n",
    "print(\"Second pattern\")\n",
    "i=5\n",
    "while(i>=1):\n",
    "    j=i\n",
    "    while(j>=1):\n",
    "        print(j, end=\" \")\n",
    "        j=j-1\n",
    "    print()\n",
    "    i = i-1"
   ]
  },
  {
   "cell_type": "code",
   "execution_count": 7,
   "metadata": {},
   "outputs": [
    {
     "name": "stdout",
     "output_type": "stream",
     "text": [
      "Enter a number:123\n",
      "Total digits= 3\n"
     ]
    }
   ],
   "source": [
    "\"\"\"\n",
    "Q5. input a number, count and print the total number of digits in that number using while\n",
    "loop\n",
    "\"\"\"\n",
    "num = int(input(\"Enter a number:\"))\n",
    "count=0\n",
    "while(num):\n",
    "    count=count+1\n",
    "    num=num//10\n",
    "print(\"Total digits=\",count)"
   ]
  },
  {
   "cell_type": "code",
   "execution_count": 12,
   "metadata": {},
   "outputs": [
    {
     "name": "stdout",
     "output_type": "stream",
     "text": [
      "[6, 12, 18, 4, 12, 20, 28]\n"
     ]
    }
   ],
   "source": [
    "\"\"\"\n",
    "Q6. Given two lists. Create a third list by picking an odd-index element from the first list\n",
    "and even index elements from second.\n",
    "listOne = [3, 6, 9, 12, 15, 18, 21]\n",
    "listTwo = [4, 8, 12, 16, 20, 24, 28]\n",
    "\"\"\"\n",
    "listOne = [3, 6, 9, 12, 15, 18, 21]\n",
    "listTwo = [4, 8, 12, 16, 20, 24, 28]\n",
    "listThree=[]\n",
    "pick1=listOne[1::2]\n",
    "for i in pick1:\n",
    "    listThree.append(i)\n",
    "pick2=listTwo[::2]\n",
    "for i in pick2:\n",
    "    listThree.append(i)\n",
    "print(listThree)"
   ]
  },
  {
   "cell_type": "code",
   "execution_count": 16,
   "metadata": {},
   "outputs": [
    {
     "name": "stdout",
     "output_type": "stream",
     "text": [
      "Smallest: -2\n"
     ]
    }
   ],
   "source": [
    "\"\"\"\n",
    "Q7. program to get the smallest number from a list.\n",
    "\"\"\"\n",
    "li=[-1,4,5,7,-2,6]\n",
    "li.sort()\n",
    "print(\"Smallest:\",li[0])"
   ]
  },
  {
   "cell_type": "code",
   "execution_count": 20,
   "metadata": {},
   "outputs": [
    {
     "name": "stdout",
     "output_type": "stream",
     "text": [
      "50\n",
      "4\n",
      "30\n",
      "20\n",
      "10\n"
     ]
    }
   ],
   "source": [
    "\"\"\"\n",
    "Q8. Reverse the following list using for loop and range [ do not use reverse or\n",
    "reversed like functions]\n",
    "list1 = [10, 20, 30, 4, 50]\n",
    "\"\"\"\n",
    "list1 = [10, 20, 30, 4, 50]\n",
    "for i in range(len(list1),0,-1):\n",
    "    print(list1[i-1])"
   ]
  }
 ],
 "metadata": {
  "kernelspec": {
   "display_name": "Python 3",
   "language": "python",
   "name": "python3"
  },
  "language_info": {
   "codemirror_mode": {
    "name": "ipython",
    "version": 3
   },
   "file_extension": ".py",
   "mimetype": "text/x-python",
   "name": "python",
   "nbconvert_exporter": "python",
   "pygments_lexer": "ipython3",
   "version": "3.8.3"
  }
 },
 "nbformat": 4,
 "nbformat_minor": 4
}
