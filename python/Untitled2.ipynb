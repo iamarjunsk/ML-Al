{
 "cells": [
  {
   "cell_type": "code",
   "execution_count": 2,
   "metadata": {},
   "outputs": [
    {
     "data": {
      "text/plain": [
       "[1, 4, 9, 16, 25]"
      ]
     },
     "execution_count": 2,
     "metadata": {},
     "output_type": "execute_result"
    }
   ],
   "source": [
    "def numsq(n):\n",
    "    return n*n\n",
    "listnum = [1,2,3,4,5]\n",
    "list2 = []\n",
    "for i in listnum:\n",
    "    k = numsq(i)\n",
    "    list2.append(k)\n",
    "list2"
   ]
  },
  {
   "cell_type": "code",
   "execution_count": 4,
   "metadata": {},
   "outputs": [
    {
     "data": {
      "text/plain": [
       "[13, 16]"
      ]
     },
     "execution_count": 4,
     "metadata": {},
     "output_type": "execute_result"
    }
   ],
   "source": [
    "def addop(a,b,c):\n",
    "    return a+b+c\n",
    "\n",
    "a=[1,2,3]\n",
    "b=[4,5,6,7]\n",
    "c=[8,9]\n",
    "res=map(addop,a,b,c)\n",
    "list(res)"
   ]
  },
  {
   "cell_type": "code",
   "execution_count": 8,
   "metadata": {},
   "outputs": [
    {
     "data": {
      "text/plain": [
       "['MCA', 'MBA', 'BCA', 'B.TECH']"
      ]
     },
     "execution_count": 8,
     "metadata": {},
     "output_type": "execute_result"
    }
   ],
   "source": [
    "listcrs = ['mca','mba','bca','b.tech']\n",
    "def toupper(a):\n",
    "    return a.upper()\n",
    "\n",
    "res=map(toupper,listcrs)\n",
    "list(res)"
   ]
  },
  {
   "cell_type": "code",
   "execution_count": 11,
   "metadata": {},
   "outputs": [
    {
     "data": {
      "text/plain": [
       "[12.56, 28.259999999999998, 50.24, 78.5]"
      ]
     },
     "execution_count": 11,
     "metadata": {},
     "output_type": "execute_result"
    }
   ],
   "source": [
    "listtradious=[2,3,4,5]\n",
    "\n",
    "def findrad(a):\n",
    "    return 3.14*a*a\n",
    "\n",
    "list(map(findrad,listtradious))"
   ]
  },
  {
   "cell_type": "code",
   "execution_count": 15,
   "metadata": {},
   "outputs": [
    {
     "name": "stdout",
     "output_type": "stream",
     "text": [
      "min:1\n",
      "max:76\n"
     ]
    }
   ],
   "source": [
    "from functools import reduce\n",
    "\n",
    "list1=[3,4,1,76,34]\n",
    "\n",
    "def findmin(a,b):\n",
    "    if a<b:\n",
    "        return a\n",
    "    else:\n",
    "        return b\n",
    "\n",
    "def findmax(a,b):\n",
    "    if a>b:\n",
    "        return a\n",
    "    else:\n",
    "        return b\n",
    "\n",
    "minres=reduce(findmin,list1)\n",
    "print('min:'+str(minres))\n",
    "maxres=reduce(findmax,list1)\n",
    "print('max:'+str(maxres))"
   ]
  },
  {
   "cell_type": "code",
   "execution_count": 17,
   "metadata": {},
   "outputs": [
    {
     "data": {
      "text/plain": [
       "[-1, -0.5, -0.2, -100]"
      ]
     },
     "execution_count": 17,
     "metadata": {},
     "output_type": "execute_result"
    }
   ],
   "source": [
    "lst=[12,-1,8,8,-0.5,-0.2,-100]\n",
    "def findneg(a):\n",
    "    if a<0:\n",
    "        return True\n",
    "list(filter(findneg,lst))"
   ]
  },
  {
   "cell_type": "code",
   "execution_count": 21,
   "metadata": {},
   "outputs": [
    {
     "data": {
      "text/plain": [
       "[1,\n",
       " 2,\n",
       " 3,\n",
       " 4,\n",
       " 5,\n",
       " 7,\n",
       " 11,\n",
       " 13,\n",
       " 17,\n",
       " 19,\n",
       " 23,\n",
       " 29,\n",
       " 31,\n",
       " 37,\n",
       " 41,\n",
       " 43,\n",
       " 47,\n",
       " 53,\n",
       " 59,\n",
       " 61,\n",
       " 67,\n",
       " 71,\n",
       " 73,\n",
       " 79,\n",
       " 83,\n",
       " 89,\n",
       " 97]"
      ]
     },
     "execution_count": 21,
     "metadata": {},
     "output_type": "execute_result"
    }
   ],
   "source": [
    "def findprime(a):\n",
    "    i=2\n",
    "    flag=1\n",
    "    while i<(a/2):\n",
    "        if a%i==0:\n",
    "            flag=0\n",
    "            break\n",
    "        i=i+1\n",
    "    if(flag):\n",
    "        return True\n",
    "list(filter(findprime,range(1,101)))"
   ]
  },
  {
   "cell_type": "code",
   "execution_count": null,
   "metadata": {},
   "outputs": [],
   "source": []
  }
 ],
 "metadata": {
  "kernelspec": {
   "display_name": "Python 3",
   "language": "python",
   "name": "python3"
  },
  "language_info": {
   "codemirror_mode": {
    "name": "ipython",
    "version": 3
   },
   "file_extension": ".py",
   "mimetype": "text/x-python",
   "name": "python",
   "nbconvert_exporter": "python",
   "pygments_lexer": "ipython3",
   "version": "3.8.3"
  }
 },
 "nbformat": 4,
 "nbformat_minor": 4
}
