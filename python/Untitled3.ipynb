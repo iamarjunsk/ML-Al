{
 "cells": [
  {
   "cell_type": "code",
   "execution_count": 1,
   "metadata": {},
   "outputs": [
    {
     "name": "stdout",
     "output_type": "stream",
     "text": [
      "i3 4gb RAM\n"
     ]
    }
   ],
   "source": [
    "class lap:\n",
    "    def spec(self):\n",
    "        print(\"i3 4gb RAM\")\n",
    "        \n",
    "a = lap()\n",
    "a.spec()"
   ]
  },
  {
   "cell_type": "code",
   "execution_count": 5,
   "metadata": {},
   "outputs": [
    {
     "name": "stdout",
     "output_type": "stream",
     "text": [
      "Max speed : 145KM/H\n",
      "Mileage : 50KM/L\n"
     ]
    }
   ],
   "source": [
    "\"\"\"\n",
    "-crete a vehicle class with maxspeed and mileage as instance attribute\n",
    "-create an object and pass 240 as maxspeed and 18 as mileage and then print maxspeed and mileage\n",
    "\"\"\"\n",
    "class vehicle:\n",
    "    def __init__(self,maxspeed,mileage):\n",
    "        self.maxspeed_=maxspeed\n",
    "        self.mileage_=mileage\n",
    "    def details(self):\n",
    "        print(\"Max speed : \"+self.maxspeed_)\n",
    "        print(\"Mileage : \"+self.mileage_)\n",
    "\n",
    "v1 = vehicle(\"145KM/H\",\"50KM/L\")\n",
    "v1.details()"
   ]
  },
  {
   "cell_type": "code",
   "execution_count": 7,
   "metadata": {},
   "outputs": [
    {
     "name": "stdout",
     "output_type": "stream",
     "text": [
      "Side:3\n",
      "Check angle:True\n"
     ]
    }
   ],
   "source": [
    "\"\"\"\n",
    "- Create a class triangle , its init method should take self,angle 1,angle 2, angle 3 as arguments\n",
    "- Create a class variable named number_of_sides and set to 3\n",
    "- create method named checkangles() ,sum of triangle's 3 angles should return True if it is 180 otherwise false\n",
    "- create an object mytriangle of Triangle class, pass 3 angle values\n",
    "- print mutriangle.number_of_sides and mytriangle.checkangles()\n",
    "\"\"\"\n",
    "class triangle:\n",
    "    number_of_sides = 3\n",
    "    def __init__(self,angle1,angle2,angle3):\n",
    "        self.angle1 = angle1\n",
    "        self.angle2 = angle2\n",
    "        self.angle3 = angle3\n",
    "    def checkangles(self):\n",
    "        if self.angle1+self.angle2+self.angle3 == 180:\n",
    "            return True\n",
    "        else:\n",
    "            return False\n",
    "\n",
    "mytriangle=triangle(40,60,80)\n",
    "print(\"Side:\"+str(mytriangle.number_of_sides))\n",
    "print(\"Check angle:\"+str(mytriangle.checkangles()))"
   ]
  },
  {
   "cell_type": "code",
   "execution_count": null,
   "metadata": {},
   "outputs": [],
   "source": []
  }
 ],
 "metadata": {
  "kernelspec": {
   "display_name": "Python 3",
   "language": "python",
   "name": "python3"
  },
  "language_info": {
   "codemirror_mode": {
    "name": "ipython",
    "version": 3
   },
   "file_extension": ".py",
   "mimetype": "text/x-python",
   "name": "python",
   "nbconvert_exporter": "python",
   "pygments_lexer": "ipython3",
   "version": "3.8.3"
  }
 },
 "nbformat": 4,
 "nbformat_minor": 4
}
