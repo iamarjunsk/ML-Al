{
 "cells": [
  {
   "cell_type": "code",
   "execution_count": 40,
   "metadata": {},
   "outputs": [
    {
     "name": "stdout",
     "output_type": "stream",
     "text": [
      "['Hai', 'helo', 'enthoke']\n"
     ]
    }
   ],
   "source": [
    "\"\"\"\n",
    "Q1 : create a txt file, enter multiple lines of text. read this file line by line and store\n",
    "it into a list. Apply exception handling technique\n",
    "\"\"\"\n",
    "try:\n",
    "    f = open(\"q1file.txt\",'w')\n",
    "    f.write(\"\"\"Hai\\nhelo\\nenthoke\"\"\")\n",
    "    f.close()\n",
    "except:\n",
    "    print(\"error while creating file\")\n",
    "try:\n",
    "    li = []\n",
    "    f1 = open(\"q1file.txt\",'r')\n",
    "    a = f1.readlines()\n",
    "    for i in a:\n",
    "      li.append(i.strip())  \n",
    "    print(li)\n",
    "except:\n",
    "    print(\"error while reading file\")"
   ]
  },
  {
   "cell_type": "code",
   "execution_count": 41,
   "metadata": {},
   "outputs": [
    {
     "name": "stdout",
     "output_type": "stream",
     "text": [
      "Red\n",
      "Green\n",
      "White\n",
      "Black\n",
      "Pink\n",
      "Yellow\n",
      "\n"
     ]
    }
   ],
   "source": [
    "\"\"\"\n",
    "Q2: Write a Python program to write below list content to a file. Apply exception\n",
    "handling technique\n",
    "color = ['Red', 'Green', 'White', 'Black', 'Pink', 'Yellow']\n",
    "\"\"\"\n",
    "color = ['Red', 'Green', 'White', 'Black', 'Pink', 'Yellow']\n",
    "try:\n",
    "    clr = open(\"Colors.sk\",'w')\n",
    "    for i in color:\n",
    "        clr.write(i+\"\\n\")\n",
    "    clr.close()\n",
    "except:\n",
    "    print(\"error while creating file\")\n",
    "try:\n",
    "    clr = open(\"Colors.sk\",'r')\n",
    "    c = clr.read()\n",
    "    print(c)\n",
    "    clr.close()\n",
    "except:\n",
    "    print(\"error while reading file\")"
   ]
  },
  {
   "cell_type": "code",
   "execution_count": 43,
   "metadata": {},
   "outputs": [
    {
     "name": "stdout",
     "output_type": "stream",
     "text": [
      "['AI', 'ML', 'DS']\n"
     ]
    }
   ],
   "source": [
    "\"\"\"\n",
    "Q3 : create a txt file, enter multiple lines of text. remove newline characters from\n",
    "created file and print as a list. Apply exception handling techniques wherever\n",
    "possible\n",
    "\"\"\"\n",
    "\"\"\"\n",
    "Q1 : create a txt file, enter multiple lines of text. read this file line by line and store\n",
    "it into a list. Apply exception handling technique\n",
    "\"\"\"\n",
    "try:\n",
    "    f = open(\"q3file.txt\",'w')\n",
    "    f.write(\"\"\"AI\\nML\\nDS\"\"\")\n",
    "    f.close()\n",
    "except:\n",
    "    print(\"error while creating file\")\n",
    "try:\n",
    "    li = []\n",
    "    f1 = open(\"q3file.txt\",'r')\n",
    "    a = f1.readlines()\n",
    "    for i in a:\n",
    "      li.append(i.strip())  \n",
    "    print(li)\n",
    "except:\n",
    "    print(\"error while reading file\")"
   ]
  },
  {
   "cell_type": "code",
   "execution_count": 64,
   "metadata": {},
   "outputs": [
    {
     "name": "stdout",
     "output_type": "stream",
     "text": [
      "Machine Learning\n",
      "Artificial Inteligents\n"
     ]
    }
   ],
   "source": [
    "\"\"\"\n",
    "Q4 : create a testfile1.txt file, enter multiple lines of text . Now copy contents of\n",
    "testfile1.txt to new file testfile22.txt. Apply exception handling techniques\n",
    "wherever possible\n",
    "\"\"\"\n",
    "try:\n",
    "    f1 = open(\"testfile1.txt\",'w')\n",
    "    f1.writelines(\"Machine Learning\\n\")\n",
    "    f1.writelines(\"Artificial Inteligents\")\n",
    "    f1.close()\n",
    "except:\n",
    "    print(\"Error while creating file\")\n",
    "try:\n",
    "    f1=open(\"testfile1.txt\",'r')\n",
    "    f2=open(\"testfile2.txt\",'w+')\n",
    "    f2.write(f1.read())\n",
    "    f1.close()\n",
    "    f2.close()\n",
    "except:\n",
    "    print(\"Error while copying file\")\n",
    "try:\n",
    "    f3 = open(\"testfile2.txt\",'r')\n",
    "    print(f3.read())\n",
    "except:\n",
    "    print(\"error while reading testfile2\")"
   ]
  }
 ],
 "metadata": {
  "kernelspec": {
   "display_name": "Python 3",
   "language": "python",
   "name": "python3"
  },
  "language_info": {
   "codemirror_mode": {
    "name": "ipython",
    "version": 3
   },
   "file_extension": ".py",
   "mimetype": "text/x-python",
   "name": "python",
   "nbconvert_exporter": "python",
   "pygments_lexer": "ipython3",
   "version": "3.8.3"
  }
 },
 "nbformat": 4,
 "nbformat_minor": 4
}
