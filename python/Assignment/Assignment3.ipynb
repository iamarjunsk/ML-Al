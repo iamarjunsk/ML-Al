{
 "cells": [
  {
   "cell_type": "code",
   "execution_count": 6,
   "metadata": {},
   "outputs": [
    {
     "name": "stdout",
     "output_type": "stream",
     "text": [
      "Enter 2 number6\n",
      "5\n",
      "Sum : 11\n",
      "Differance : 1\n"
     ]
    }
   ],
   "source": [
    "\"\"\"\n",
    "Q1: Write a function calculation() such that it can accept two\n",
    "variables as arguments and calculate the addition and\n",
    "subtraction of it. And also it must return both addition and\n",
    "subtraction in a single return call\n",
    "\"\"\"\n",
    "def calculation(a,b):\n",
    "    summ = a + b\n",
    "    diff = a - b\n",
    "    calc = {\n",
    "        'add' : summ,\n",
    "        'diff' : diff\n",
    "    }\n",
    "    return calc\n",
    "\n",
    "x = int(input(\"Enter 2 number\"))\n",
    "y = int(input())\n",
    "ret = calculation(x,y)\n",
    "print(\"Sum : \"+str(ret['add']))\n",
    "print(\"Differance : \"+str(ret['diff']))"
   ]
  },
  {
   "cell_type": "code",
   "execution_count": 16,
   "metadata": {},
   "outputs": [
    {
     "name": "stdout",
     "output_type": "stream",
     "text": [
      "Enter name : arjun\n",
      "Enter salary : \n",
      "Name : arjun\n",
      "Salary : 9000\n"
     ]
    }
   ],
   "source": [
    "\"\"\"\n",
    "Q2 : Create a function showEmployee() in such a way that it\n",
    "should accept employee name, and it’s salary and display both,\n",
    "and if the salary is missing in function call it should show it as\n",
    "9000\n",
    "\"\"\"\n",
    "def showEmployee(name,sal=9000):\n",
    "    print(\"Name : \"+name)\n",
    "    print(\"Salary : \"+str(sal))\n",
    "    return 0\n",
    "name = input(\"Enter name : \")\n",
    "salary = input(\"Enter salary : \")\n",
    "if salary:\n",
    "    showEmployee(name,salary)\n",
    "else:\n",
    "    showEmployee(name)"
   ]
  },
  {
   "cell_type": "code",
   "execution_count": 29,
   "metadata": {},
   "outputs": [
    {
     "data": {
      "text/plain": [
       "{'a': 1, 'w': 1, 'e': 2, 's': 1, 'o': 1, 'm': 1}"
      ]
     },
     "execution_count": 29,
     "metadata": {},
     "output_type": "execute_result"
    }
   ],
   "source": [
    "\"\"\"\n",
    "Q3 : Write a function called multipleLetterCount. This function\n",
    "takes in one parameter (a string) and returns a dictionary with the\n",
    "keys being the letters and the value being the count of the letter.\n",
    "# Example output:\n",
    "# multipleLetterCount('awesome')\n",
    "# {'a': 1, 'e': 2, 'm': 1, 'o': 1, 's': 1, 'w': 1}\n",
    "\"\"\"\n",
    "def multipleLetterCount(a):\n",
    "    dic = {}\n",
    "    for i in a:\n",
    "        if i in dic:\n",
    "            dic[i]=dic[i]+1\n",
    "        else:\n",
    "            dic[i]=1\n",
    "    return dic\n",
    "multipleLetterCount(\"awesome\")"
   ]
  }
 ],
 "metadata": {
  "kernelspec": {
   "display_name": "Python 3",
   "language": "python",
   "name": "python3"
  },
  "language_info": {
   "codemirror_mode": {
    "name": "ipython",
    "version": 3
   },
   "file_extension": ".py",
   "mimetype": "text/x-python",
   "name": "python",
   "nbconvert_exporter": "python",
   "pygments_lexer": "ipython3",
   "version": "3.8.3"
  }
 },
 "nbformat": 4,
 "nbformat_minor": 4
}
