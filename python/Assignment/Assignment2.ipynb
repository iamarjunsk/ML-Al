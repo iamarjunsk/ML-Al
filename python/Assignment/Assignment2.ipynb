{
 "cells": [
  {
   "cell_type": "code",
   "execution_count": 10,
   "metadata": {},
   "outputs": [
    {
     "name": "stdout",
     "output_type": "stream",
     "text": [
      "Updated tuple:(11, [222, 33], 44, 55)\n"
     ]
    }
   ],
   "source": [
    "\"\"\"\n",
    "Q 1: Modify the first item (22) of a list inside a following tuple to\n",
    "222\n",
    "tuple1 = (11, [22, 33], 44, 55)\n",
    "Expected output:\n",
    "tuple1 = (11, [222, 33], 44, 55)\n",
    "\"\"\"\n",
    "tuple1 = (11, [22, 33], 44, 55)\n",
    "tuple1[1][0]=222\n",
    "print(\"Updated tuple:\"+str(tuple1))"
   ]
  },
  {
   "cell_type": "code",
   "execution_count": 6,
   "metadata": {},
   "outputs": [
    {
     "name": "stdout",
     "output_type": "stream",
     "text": [
      "occurrences of item 50:2\n"
     ]
    }
   ],
   "source": [
    "\"\"\"\n",
    "Q 2: Count the number of occurrences of item 50 from a tuple\n",
    "tuple1 = (50, 10, 60, 70, 50)\n",
    "\"\"\"\n",
    "tuple1 = (50, 10, 60, 70, 50)\n",
    "count = 0\n",
    "for el in tuple1:\n",
    "     if el == 50:\n",
    "            count = count + 1\n",
    "print(\"occurrences of item 50:\"+str(count))"
   ]
  },
  {
   "cell_type": "code",
   "execution_count": 12,
   "metadata": {},
   "outputs": [
    {
     "data": {
      "text/plain": [
       "(50, 10, 60, 70, 50)"
      ]
     },
     "execution_count": 12,
     "metadata": {},
     "output_type": "execute_result"
    }
   ],
   "source": [
    "\"\"\"\n",
    "Q 3: Write a Python program to convert a list to a tuple\n",
    "\"\"\"\n",
    "list1 = [50, 10, 60, 70, 50]\n",
    "tuple1=tuple(list1)\n",
    "tuple1"
   ]
  },
  {
   "cell_type": "code",
   "execution_count": 21,
   "metadata": {},
   "outputs": [
    {
     "name": "stdout",
     "output_type": "stream",
     "text": [
      "{70, 40, 10, 50, 20, 60, 30}\n"
     ]
    }
   ],
   "source": [
    "\"\"\"\n",
    "Q 4: Returns a new set with all items from both sets by removing\n",
    "duplicates\n",
    "set1 = {10, 20, 30, 40, 50}\n",
    "set2 = {30, 40, 50, 60, 70}\n",
    "\"\"\"\n",
    "set1 = {10, 20, 30, 40, 50}\n",
    "set2 = {30, 40, 50, 60, 70}\n",
    "while(set2):\n",
    "    set1.add(set2.pop())\n",
    "print(set1)"
   ]
  },
  {
   "cell_type": "code",
   "execution_count": 40,
   "metadata": {},
   "outputs": [
    {
     "name": "stdout",
     "output_type": "stream",
     "text": [
      "merged data : {'Ten': 10, 'Twenty': 20, 'Thirty': 30, 'Fourty': 40, 'Fifty': 50}\n"
     ]
    }
   ],
   "source": [
    "\"\"\"\n",
    "Q5: Merge following two Python dictionaries into one\n",
    "dict1 = {'Ten': 10, 'Twenty': 20, 'Thirty': 30}\n",
    "dict2 = {'Thirty': 30, 'Fourty': 40, 'Fifty': 50}\n",
    "\"\"\"\n",
    "dict1 = {'Ten': 10, 'Twenty': 20, 'Thirty': 30}\n",
    "dict2 = {'Thirty': 30, 'Fourty': 40, 'Fifty': 50}\n",
    "for i in dict2:\n",
    "    dict1[i]=dict2[i]\n",
    "print(\"merged data : \" + str(dict1) )"
   ]
  },
  {
   "cell_type": "code",
   "execution_count": 66,
   "metadata": {},
   "outputs": [
    {
     "name": "stdout",
     "output_type": "stream",
     "text": [
      "{'emp1': {'name': 'Jhon', 'salary': 7500}, 'emp2': {'name': 'Emma', 'salary': 8000}, 'emp3': {'name': 'Brad', 'salary': 8500}}\n"
     ]
    }
   ],
   "source": [
    "\"\"\"\n",
    "Q6: Given a Python dictionary, Change Brad’s salary to 8500\n",
    "sampleDict = {\n",
    "'emp1': {'name': 'Jhon', 'salary': 7500},\n",
    "'emp2': {'name': 'Emma', 'salary': 8000},\n",
    "'emp3': {'name': 'Brad', 'salary': 6500}\n",
    "}\n",
    "Expected output:\n",
    "sampleDict = {\n",
    "'emp1': {'name': 'Jhon', 'salary': 7500},\n",
    "'emp2': {'name': 'Emma', 'salary': 8000},\n",
    "'emp3': {'name': 'Brad', 'salary': 8500}\n",
    "}\n",
    "\"\"\"\n",
    "sampleDict = {\n",
    "'emp1': {'name': 'Jhon', 'salary': 7500},\n",
    "'emp2': {'name': 'Emma', 'salary': 8000},\n",
    "'emp3': {'name': 'Brad', 'salary': 6500}\n",
    "}\n",
    "\n",
    "n=len(sampleDict)\n",
    "i=0\n",
    "for i in sampleDict:\n",
    "    if sampleDict[i]['name'] == \"Brad\":\n",
    "        sampleDict[i]['salary'] = 8500\n",
    "print(sampleDict)"
   ]
  },
  {
   "cell_type": "code",
   "execution_count": 67,
   "metadata": {},
   "outputs": [
    {
     "name": "stdout",
     "output_type": "stream",
     "text": [
      "{'name': 'Kelly', 'age': 25, 'salary': 8000, 'location': 'New york'}\n"
     ]
    }
   ],
   "source": [
    "\"\"\"\n",
    "Q7: Rename key city to location in the following dictionary\n",
    "sampleDict = {\n",
    "\"name\": \"Kelly\",\n",
    "\"age\":25,\n",
    "\"salary\": 8000,\n",
    "\"city\": \"New york\"\n",
    "}\n",
    "\n",
    "Expected output:\n",
    "{\n",
    "\"name\": \"Kelly\",\n",
    "\"age\":25,\n",
    "\"salary\": 8000,\n",
    "\"location\": \"New york\"\n",
    "}\n",
    "\"\"\"\n",
    "sampleDict = {\n",
    "\"name\": \"Kelly\",\n",
    "\"age\":25,\n",
    "\"salary\": 8000,\n",
    "\"city\": \"New york\"\n",
    "}\n",
    "sampleDict[\"location\"] = sampleDict.pop(\"city\")\n",
    "print(sampleDict)"
   ]
  }
 ],
 "metadata": {
  "kernelspec": {
   "display_name": "Python 3",
   "language": "python",
   "name": "python3"
  },
  "language_info": {
   "codemirror_mode": {
    "name": "ipython",
    "version": 3
   },
   "file_extension": ".py",
   "mimetype": "text/x-python",
   "name": "python",
   "nbconvert_exporter": "python",
   "pygments_lexer": "ipython3",
   "version": "3.8.3"
  }
 },
 "nbformat": 4,
 "nbformat_minor": 4
}
